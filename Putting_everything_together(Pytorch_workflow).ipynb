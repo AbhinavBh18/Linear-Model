{
  "nbformat": 4,
  "nbformat_minor": 0,
  "metadata": {
    "colab": {
      "provenance": [],
      "authorship_tag": "ABX9TyPwQnqIdefHVTgunVB+XD8Z",
      "include_colab_link": true
    },
    "kernelspec": {
      "name": "python3",
      "display_name": "Python 3"
    },
    "language_info": {
      "name": "python"
    }
  },
  "cells": [
    {
      "cell_type": "markdown",
      "metadata": {
        "id": "view-in-github",
        "colab_type": "text"
      },
      "source": [
        "<a href=\"https://colab.research.google.com/github/AbhinavBh18/Linear-Model/blob/main/Putting_everything_together(Pytorch_workflow).ipynb\" target=\"_parent\"><img src=\"https://colab.research.google.com/assets/colab-badge.svg\" alt=\"Open In Colab\"/></a>"
      ]
    },
    {
      "cell_type": "code",
      "execution_count": null,
      "metadata": {
        "colab": {
          "base_uri": "https://localhost:8080/",
          "height": 35
        },
        "id": "FGbfcMeY-Bdf",
        "outputId": "3376b470-44fb-4ca1-e38f-78c51d1cb4bf"
      },
      "outputs": [
        {
          "output_type": "execute_result",
          "data": {
            "text/plain": [
              "'2.1.0+cu121'"
            ],
            "application/vnd.google.colaboratory.intrinsic+json": {
              "type": "string"
            }
          },
          "metadata": {},
          "execution_count": 15
        }
      ],
      "source": [
        "import torch\n",
        "from torch import nn\n",
        "import numpy as np\n",
        "import matplotlib.pyplot as plt\n",
        "torch.__version__"
      ]
    },
    {
      "cell_type": "code",
      "source": [
        "device=\"cuda\" if torch.cuda.is_available() else \"cpu\"\n",
        "\n",
        "print(f\"Using Device : {device}\")"
      ],
      "metadata": {
        "colab": {
          "base_uri": "https://localhost:8080/"
        },
        "id": "OxIig3Fc-oMl",
        "outputId": "c1ef3369-1f71-40d8-b8d0-df0e68daceef"
      },
      "execution_count": null,
      "outputs": [
        {
          "output_type": "stream",
          "name": "stdout",
          "text": [
            "Using Device : cpu\n"
          ]
        }
      ]
    },
    {
      "cell_type": "code",
      "source": [
        "weight=0.6\n",
        "bias=0.4\n",
        "start=0\n",
        "end=1\n",
        "step=0.02\n",
        "x=torch.arange(start,end,step).unsqueeze(dim=1)\n",
        "y=weight*x+bias\n",
        "x[:10],y[:10]"
      ],
      "metadata": {
        "colab": {
          "base_uri": "https://localhost:8080/"
        },
        "id": "T1K8r007_BJj",
        "outputId": "4d8f503a-ea31-4c54-a283-5ae99740a576"
      },
      "execution_count": null,
      "outputs": [
        {
          "output_type": "execute_result",
          "data": {
            "text/plain": [
              "(tensor([[0.0000],\n",
              "         [0.0200],\n",
              "         [0.0400],\n",
              "         [0.0600],\n",
              "         [0.0800],\n",
              "         [0.1000],\n",
              "         [0.1200],\n",
              "         [0.1400],\n",
              "         [0.1600],\n",
              "         [0.1800]]),\n",
              " tensor([[0.4000],\n",
              "         [0.4120],\n",
              "         [0.4240],\n",
              "         [0.4360],\n",
              "         [0.4480],\n",
              "         [0.4600],\n",
              "         [0.4720],\n",
              "         [0.4840],\n",
              "         [0.4960],\n",
              "         [0.5080]]))"
            ]
          },
          "metadata": {},
          "execution_count": 17
        }
      ]
    },
    {
      "cell_type": "code",
      "source": [
        "train_data=int(0.8*len(x))\n",
        "x_train,y_train=x[:train_data],y[:train_data]\n",
        "\n",
        "x_test,y_test=x[train_data:],y[train_data:]\n",
        "\n",
        "len(x_train),len(x_test)"
      ],
      "metadata": {
        "colab": {
          "base_uri": "https://localhost:8080/"
        },
        "id": "XMixS_TmAN2b",
        "outputId": "8a5603c3-11cf-4589-8d1e-cbae6265e08d"
      },
      "execution_count": null,
      "outputs": [
        {
          "output_type": "execute_result",
          "data": {
            "text/plain": [
              "(40, 10)"
            ]
          },
          "metadata": {},
          "execution_count": 18
        }
      ]
    },
    {
      "cell_type": "code",
      "source": [
        "def plot_predictions(train_data=x_train,\n",
        "                     train_label=y_train,\n",
        "                     test_data=x_test,\n",
        "                     test_label=y_test,\n",
        "                     predictions=None):\n",
        "  plt.figure(figsize=(8,6))\n",
        "  plt.scatter(train_data, train_label,c=\"b\",label=\"training data\")\n",
        "  plt.scatter(test_data, test_label, c=\"r\", label=\"Test data\")\n",
        "  if predictions is not None:\n",
        "    plt.scatter(test_data,predictions,c=\"g\",label=\"predictions\")\n",
        "  plt.legend()"
      ],
      "metadata": {
        "id": "inc_iDLdB5E5"
      },
      "execution_count": null,
      "outputs": []
    },
    {
      "cell_type": "code",
      "source": [
        "plot_predictions();"
      ],
      "metadata": {
        "colab": {
          "base_uri": "https://localhost:8080/",
          "height": 490
        },
        "id": "IqcUnL_cNRvK",
        "outputId": "d2ef5892-6797-477d-c179-b6d29af3ceb9"
      },
      "execution_count": null,
      "outputs": [
        {
          "output_type": "display_data",
          "data": {
            "text/plain": [
              "<Figure size 800x600 with 1 Axes>"
            ],
            "image/png": "[encoded data removed]"
          },
          "metadata": {}
        }
      ]
    },
    {
      "cell_type": "code",
      "source": [
        "class LinearRegressionModel(nn.Module):\n",
        "  def __init__(self):\n",
        "    super().__init__()\n",
        "    self.linear_layer=nn.Linear(in_features=1,\n",
        "                                out_features=1)\n",
        "  def forward(self,x:torch.Tensor)->torch.Tensor:\n",
        "    return self.linear_layer(x)\n",
        "\n",
        "torch.manual_seed(42)\n",
        "model_1=LinearRegressionModel()\n",
        "model_1,model_1.state_dict()"
      ],
      "metadata": {
        "colab": {
          "base_uri": "https://localhost:8080/"
        },
        "id": "lCLUusYdNZ15",
        "outputId": "6fdc4b69-e164-4d4f-cb4a-7eccca8a2613"
      },
      "execution_count": null,
      "outputs": [
        {
          "output_type": "execute_result",
          "data": {
            "text/plain": [
              "(LinearRegressionModel(\n",
              "   (linear_layer): Linear(in_features=1, out_features=1, bias=True)\n",
              " ),\n",
              " OrderedDict([('linear_layer.weight', tensor([[0.7645]])),\n",
              "              ('linear_layer.bias', tensor([0.8300]))]))"
            ]
          },
          "metadata": {},
          "execution_count": 21
        }
      ]
    },
    {
      "cell_type": "code",
      "source": [
        "next(model_1.parameters()).device"
      ],
      "metadata": {
        "colab": {
          "base_uri": "https://localhost:8080/"
        },
        "id": "siy_ReYjTLnz",
        "outputId": "7fabd8aa-8012-471c-e646-b881910fc555"
      },
      "execution_count": null,
      "outputs": [
        {
          "output_type": "execute_result",
          "data": {
            "text/plain": [
              "device(type='cpu')"
            ]
          },
          "metadata": {},
          "execution_count": 22
        }
      ]
    },
    {
      "cell_type": "code",
      "source": [
        "model_1.to(device)\n",
        "next(model_1.parameters()).device"
      ],
      "metadata": {
        "colab": {
          "base_uri": "https://localhost:8080/"
        },
        "id": "S1fPUhxkTLl9",
        "outputId": "9538cccb-d50e-42a7-d0b5-b9164c6238cc"
      },
      "execution_count": null,
      "outputs": [
        {
          "output_type": "execute_result",
          "data": {
            "text/plain": [
              "device(type='cpu')"
            ]
          },
          "metadata": {},
          "execution_count": 23
        }
      ]
    },
    {
      "cell_type": "code",
      "source": [
        "loss_function=nn.L1Loss()\n",
        "\n",
        "optimizer=torch.optim.SGD(params=model_1.parameters(),\n",
        "                          lr=0.01)\n",
        "\n"
      ],
      "metadata": {
        "id": "YorlVRnSTLjU"
      },
      "execution_count": null,
      "outputs": []
    },
    {
      "cell_type": "code",
      "source": [
        "epoch_count=[]\n",
        "loss_value=[]\n",
        "test_loss_value=[]\n",
        "\n",
        "\n",
        "\n",
        "epoch=200\n",
        "for epoch in range(epoch):\n",
        "  model_1.train()\n",
        "  y_pred=model_1(x_train)\n",
        "  loss=loss_function(y_pred, y_train)\n",
        "  optimizer.zero_grad()\n",
        "  loss.backward()\n",
        "  optimizer.step()\n",
        "\n",
        "  model_1.eval()\n",
        "  with torch.inference_mode():\n",
        "    test_pred=model_1(x_test)\n",
        "\n",
        "    test_loss=loss_function(test_pred, y_test)\n",
        "    epoch_count.append(epoch)\n",
        "    test_loss_value.append(test_loss)\n",
        "    loss_value.append(loss)\n",
        "\n",
        "\n",
        "  if epoch % 100==0:\n",
        "    print(f\"Loss : {loss} | epoch : {epoch} | Test loss : {test_loss}\")\n",
        "\n",
        "    print(model_1.state_dict())\n"
      ],
      "metadata": {
        "colab": {
          "base_uri": "https://localhost:8080/"
        },
        "id": "lhTMyCupRj6t",
        "outputId": "e76387c9-78f3-4a5d-bc6a-d179b34fe137"
      },
      "execution_count": null,
      "outputs": [
        {
          "output_type": "stream",
          "name": "stdout",
          "text": [
            "Loss : 0.494177907705307 | epoch : 0 | Test loss : 0.5629762411117554\n",
            "OrderedDict([('linear_layer.weight', tensor([[0.7606]])), ('linear_layer.bias', tensor([0.8200]))])\n",
            "Loss : 0.009796462953090668 | epoch : 100 | Test loss : 0.003305059624835849\n",
            "OrderedDict([('linear_layer.weight', tensor([[0.5968]])), ('linear_layer.bias', tensor([0.3995]))])\n"
          ]
        }
      ]
    },
    {
      "cell_type": "code",
      "source": [
        "model_1.state_dict()"
      ],
      "metadata": {
        "colab": {
          "base_uri": "https://localhost:8080/"
        },
        "id": "u7mTXCDGVATY",
        "outputId": "447f3e88-7f10-4eba-ee81-cddcb0e4babf"
      },
      "execution_count": null,
      "outputs": [
        {
          "output_type": "execute_result",
          "data": {
            "text/plain": [
              "OrderedDict([('linear_layer.weight', tensor([[0.6007]])),\n",
              "             ('linear_layer.bias', tensor([0.4095]))])"
            ]
          },
          "metadata": {},
          "execution_count": 26
        }
      ]
    },
    {
      "cell_type": "code",
      "source": [
        "with torch.inference_mode():\n",
        "  y_preds_new=model_1(x_test)\n",
        "\n"
      ],
      "metadata": {
        "id": "2vQoqeriYXAB"
      },
      "execution_count": null,
      "outputs": []
    },
    {
      "cell_type": "code",
      "source": [
        "plot_predictions(predictions=y_preds_new);"
      ],
      "metadata": {
        "colab": {
          "base_uri": "https://localhost:8080/",
          "height": 490
        },
        "id": "MbQTsCSKehme",
        "outputId": "e6860a27-63f8-4351-8e30-eb7c346e4656"
      },
      "execution_count": null,
      "outputs": [
        {
          "output_type": "display_data",
          "data": {
            "text/plain": [
              "<Figure size 800x600 with 1 Axes>"
            ],
            "image/png": "[encoded data removed]"
          },
          "metadata": {}
        }
      ]
    },
    {
      "cell_type": "code",
      "source": [
        "from pathlib import Path\n",
        "\n",
        "MODEL_PATH=Path(\"models\")\n",
        "MODEL_PATH.mkdir(parents=True, exist_ok=True)\n",
        "\n",
        "MODEL_NAME=\"model_1.pth\"\n",
        "\n",
        "MODEL_SAVE_PATH=MODEL_PATH / MODEL_NAME\n",
        "\n",
        "print(f\"saving model to: {MODEL_SAVE_PATH}\")\n",
        "torch.save(obj=model_1.state_dict(),\n",
        "           f=MODEL_SAVE_PATH)"
      ],
      "metadata": {
        "colab": {
          "base_uri": "https://localhost:8080/"
        },
        "id": "be0QmkCKeocE",
        "outputId": "9e2296af-67bb-4344-df24-e51a18a41258"
      },
      "execution_count": null,
      "outputs": [
        {
          "output_type": "stream",
          "name": "stdout",
          "text": [
            "saving model to: models/model_1.pth\n"
          ]
        }
      ]
    },
    {
      "cell_type": "code",
      "source": [
        " loaded_model_1=LinearRegressionModel()\n",
        "\n",
        " loaded_model_1.load_state_dict(torch.load(MODEL_SAVE_PATH))\n"
      ],
      "metadata": {
        "colab": {
          "base_uri": "https://localhost:8080/"
        },
        "id": "ruaNizxbj1lS",
        "outputId": "8dcb8c7d-848c-49e8-ade9-eaa3087d73a5"
      },
      "execution_count": null,
      "outputs": [
        {
          "output_type": "execute_result",
          "data": {
            "text/plain": [
              "<All keys matched successfully>"
            ]
          },
          "metadata": {},
          "execution_count": 31
        }
      ]
    },
    {
      "cell_type": "code",
      "source": [
        "loaded_model_1.state_dict()"
      ],
      "metadata": {
        "colab": {
          "base_uri": "https://localhost:8080/"
        },
        "id": "mul6TSs5zi5i",
        "outputId": "e3e885ea-cf71-4710-c935-6f6ef48db656"
      },
      "execution_count": null,
      "outputs": [
        {
          "output_type": "execute_result",
          "data": {
            "text/plain": [
              "OrderedDict([('linear_layer.weight', tensor([[0.6007]])),\n",
              "             ('linear_layer.bias', tensor([0.4095]))])"
            ]
          },
          "metadata": {},
          "execution_count": 33
        }
      ]
    },
    {
      "cell_type": "markdown",
      "source": [
        "#WORKFLOW EXERCISE By Parameters\n"
      ],
      "metadata": {
        "id": "ERlPqvSuzpee"
      }
    },
    {
      "cell_type": "code",
      "source": [
        "import torch\n",
        "from torch import nn\n",
        "import matplotlib.pyplot as plt"
      ],
      "metadata": {
        "id": "8AcatfFtVfCS"
      },
      "execution_count": null,
      "outputs": []
    },
    {
      "cell_type": "code",
      "source": [
        "weight=0.3\n",
        "bias=0.9\n",
        "start=0\n",
        "end=1\n",
        "step=0.01\n",
        "x=torch.arange(start,end,step).unsqueeze(dim=1)\n",
        "y=weight*x+bias"
      ],
      "metadata": {
        "id": "ou6RwczvU1t5"
      },
      "execution_count": null,
      "outputs": []
    },
    {
      "cell_type": "code",
      "source": [
        "train_data=int(0.8*len(x))\n",
        "x_train,y_train=x[:train_data],y[:train_data]\n",
        "x_test,y_test=x[train_data:],y[train_data:]\n",
        "len(y_train)"
      ],
      "metadata": {
        "colab": {
          "base_uri": "https://localhost:8080/"
        },
        "id": "CNu42oh_U1r-",
        "outputId": "c8a0eec1-35cf-412e-c5b4-f6c925d87a16"
      },
      "execution_count": null,
      "outputs": [
        {
          "output_type": "execute_result",
          "data": {
            "text/plain": [
              "80"
            ]
          },
          "metadata": {},
          "execution_count": 26
        }
      ]
    },
    {
      "cell_type": "code",
      "source": [
        "def plot_predictions(train_data=x_train,\n",
        "                     train_label=y_train,\n",
        "                     test_data=x_test,\n",
        "                     test_label=y_test,\n",
        "                     predictions=None):\n",
        "  plt.figure(figsize=(10,10))\n",
        "  plt.scatter(train_data,train_label,c=\"b\",label=\"Training Data\")\n",
        "  plt.scatter(test_data,test_label,c=\"r\",label=\"Test Data\")\n",
        "  if predictions is not None:\n",
        "    plt.scatter(test_data,predictions,c=\"g\", label=\"Predictions\")\n",
        "    plt.legend()"
      ],
      "metadata": {
        "id": "bIYaNfDSU1p9"
      },
      "execution_count": null,
      "outputs": []
    },
    {
      "cell_type": "code",
      "source": [
        "plot_predictions()"
      ],
      "metadata": {
        "id": "ZTS1gdQJU1np",
        "outputId": "f95c9602-d0a9-4204-ab37-bff0269e6ce2",
        "colab": {
          "base_uri": "https://localhost:8080/",
          "height": 830
        }
      },
      "execution_count": null,
      "outputs": [
        {
          "output_type": "display_data",
          "data": {
            "text/plain": [
              "<Figure size 1000x1000 with 1 Axes>"
            ],
            "image/png": "[encoded data removed]"
          },
          "metadata": {}
        }
      ]
    },
    {
      "cell_type": "code",
      "source": [
        "\n",
        "class LinearRegressionModel(nn.Module):\n",
        "  def __init__ (self):\n",
        "    super().__init__()\n",
        "    self.weight=nn.Parameter(torch.randn(1,\n",
        "                                         requires_grad=True,\n",
        "                                         dtype=torch.float))\n",
        "    self.bias=nn.Parameter(torch.randn(1,\n",
        "                                       requires_grad=True,\n",
        "                                       dtype=torch.float))\n",
        "  def forward(self,x:torch.Tensor):\n",
        "    return self.weight*x + self.bias"
      ],
      "metadata": {
        "id": "6A1C4wHNU1lq"
      },
      "execution_count": null,
      "outputs": []
    },
    {
      "cell_type": "code",
      "source": [
        "model_a=LinearRegressionModel()\n",
        "model_a.state_dict()"
      ],
      "metadata": {
        "id": "nWCDIS4YhWuM",
        "outputId": "6a6a190b-0751-463e-d32c-0f346650879d",
        "colab": {
          "base_uri": "https://localhost:8080/"
        }
      },
      "execution_count": null,
      "outputs": [
        {
          "output_type": "execute_result",
          "data": {
            "text/plain": [
              "OrderedDict([('weight', tensor([0.5575])), ('bias', tensor([1.4978]))])"
            ]
          },
          "metadata": {},
          "execution_count": 30
        }
      ]
    },
    {
      "cell_type": "code",
      "source": [
        "loss_fn=nn.L1Loss()\n",
        "optimizer=torch.optim.SGD(params=model_a.parameters(),\n",
        "                          lr=0.01)"
      ],
      "metadata": {
        "id": "Vb36nkAehMFd"
      },
      "execution_count": null,
      "outputs": []
    },
    {
      "cell_type": "code",
      "source": [
        "epoch=300\n",
        "for epoch in range(epoch):\n",
        "  model_a.train()\n",
        "\n",
        "  y_preds=model_a(x_train)\n",
        "\n",
        "  loss=loss_fn(y_preds,y_train)\n",
        "\n",
        "  optimizer.zero_grad()\n",
        "\n",
        "  loss.backward()\n",
        "\n",
        "  optimizer.step()\n",
        "\n",
        "  model_a.eval()\n",
        "  with torch.inference_mode():\n",
        "    test_pred=model_a(x_test)\n",
        "\n",
        "    test_loss=loss_fn(test_pred,y_test)\n",
        "  if epoch % 20==0:\n",
        "    print(epoch)\n",
        "    print(model_a.state_dict())"
      ],
      "metadata": {
        "colab": {
          "base_uri": "https://localhost:8080/"
        },
        "id": "FXAxTljkiCaa",
        "outputId": "f796faf8-e109-466e-fb2c-237582c5d1eb"
      },
      "execution_count": 37,
      "outputs": [
        {
          "output_type": "stream",
          "name": "stdout",
          "text": [
            "0\n",
            "OrderedDict([('weight', tensor([0.3073])), ('bias', tensor([0.8920]))])\n",
            "20\n",
            "OrderedDict([('weight', tensor([0.3073])), ('bias', tensor([0.8920]))])\n",
            "40\n",
            "OrderedDict([('weight', tensor([0.3073])), ('bias', tensor([0.8920]))])\n",
            "60\n",
            "OrderedDict([('weight', tensor([0.3073])), ('bias', tensor([0.8920]))])\n",
            "80\n",
            "OrderedDict([('weight', tensor([0.3073])), ('bias', tensor([0.8920]))])\n",
            "100\n",
            "OrderedDict([('weight', tensor([0.3073])), ('bias', tensor([0.8920]))])\n",
            "120\n",
            "OrderedDict([('weight', tensor([0.3073])), ('bias', tensor([0.8920]))])\n",
            "140\n",
            "OrderedDict([('weight', tensor([0.3073])), ('bias', tensor([0.8920]))])\n",
            "160\n",
            "OrderedDict([('weight', tensor([0.3073])), ('bias', tensor([0.8920]))])\n",
            "180\n",
            "OrderedDict([('weight', tensor([0.3073])), ('bias', tensor([0.8920]))])\n",
            "200\n",
            "OrderedDict([('weight', tensor([0.3073])), ('bias', tensor([0.8920]))])\n",
            "220\n",
            "OrderedDict([('weight', tensor([0.3073])), ('bias', tensor([0.8920]))])\n",
            "240\n",
            "OrderedDict([('weight', tensor([0.3073])), ('bias', tensor([0.8920]))])\n",
            "260\n",
            "OrderedDict([('weight', tensor([0.3073])), ('bias', tensor([0.8920]))])\n",
            "280\n",
            "OrderedDict([('weight', tensor([0.3073])), ('bias', tensor([0.8920]))])\n"
          ]
        }
      ]
    },
    {
      "cell_type": "code",
      "source": [
        "model_a.state_dict()"
      ],
      "metadata": {
        "colab": {
          "base_uri": "https://localhost:8080/"
        },
        "id": "vNHnXxu4lLJo",
        "outputId": "52fa8cd8-cb9e-4748-b177-2640b132beb5"
      },
      "execution_count": null,
      "outputs": [
        {
          "output_type": "execute_result",
          "data": {
            "text/plain": [
              "OrderedDict([('weight', tensor([0.3112])), ('bias', tensor([0.9020]))])"
            ]
          },
          "metadata": {},
          "execution_count": 33
        }
      ]
    },
    {
      "cell_type": "code",
      "source": [
        "with torch.inference_mode():\n",
        "  y_preds_new=model_a(x_test)"
      ],
      "metadata": {
        "id": "FJnQJ6k_F1M_"
      },
      "execution_count": null,
      "outputs": []
    },
    {
      "cell_type": "code",
      "source": [
        "plot_predictions(predictions=y_preds_new)"
      ],
      "metadata": {
        "colab": {
          "base_uri": "https://localhost:8080/",
          "height": 830
        },
        "id": "hS0XKxIYBKbM",
        "outputId": "e48b71ca-1e5c-4bb7-c364-9a7210c2be4d"
      },
      "execution_count": null,
      "outputs": [
        {
          "output_type": "display_data",
          "data": {
            "text/plain": [
              "<Figure size 1000x1000 with 1 Axes>"
            ],
            "image/png": "[encoded data removed]"
          },
          "metadata": {}
        }
      ]
    },
    {
      "cell_type": "markdown",
      "source": [
        "#saving and loading our model"
      ],
      "metadata": {
        "id": "pGgNRWX_FnDh"
      }
    },
    {
      "cell_type": "code",
      "source": [
        "from pathlib import Path\n",
        "model_Path=Path(\"models\")\n",
        "model_Path.mkdir(parents=True, exist_ok=True)\n",
        "model_name=\"exercise_model.pth\"\n",
        "model_save_path=model_Path / model_name\n",
        "\n",
        "torch.save(obj=model_a.state_dict(),\n",
        "           f=model_save_path)\n",
        "\n",
        "\n",
        "loaded_model_a=LinearRegressionModel()\n",
        "loaded_model_a.load_state_dict(torch.load(model_save_path))"
      ],
      "metadata": {
        "colab": {
          "base_uri": "https://localhost:8080/"
        },
        "id": "b09p4Lcob03p",
        "outputId": "5479bbb4-c5d7-4c7c-ab63-58bc224dedaf"
      },
      "execution_count": null,
      "outputs": [
        {
          "output_type": "execute_result",
          "data": {
            "text/plain": [
              "<All keys matched successfully>"
            ]
          },
          "metadata": {},
          "execution_count": 17
        }
      ]
    },
    {
      "cell_type": "code",
      "source": [
        "loaded_model_a.eval()\n",
        "with torch.inference_mode():\n",
        "  y_preds_loaded=loaded_model_a(x_test)\n",
        "y_preds_loaded"
      ],
      "metadata": {
        "colab": {
          "base_uri": "https://localhost:8080/"
        },
        "id": "hc9lwvPDb0zF",
        "outputId": "8758f837-cc51-45ba-992d-e0364f4dbb44"
      },
      "execution_count": null,
      "outputs": [
        {
          "output_type": "execute_result",
          "data": {
            "text/plain": [
              "tensor([[1.1397],\n",
              "        [1.1427],\n",
              "        [1.1458],\n",
              "        [1.1488],\n",
              "        [1.1519],\n",
              "        [1.1549],\n",
              "        [1.1580],\n",
              "        [1.1610],\n",
              "        [1.1641],\n",
              "        [1.1671],\n",
              "        [1.1702],\n",
              "        [1.1732],\n",
              "        [1.1763],\n",
              "        [1.1793],\n",
              "        [1.1824],\n",
              "        [1.1854],\n",
              "        [1.1885],\n",
              "        [1.1915],\n",
              "        [1.1946],\n",
              "        [1.1976]])"
            ]
          },
          "metadata": {},
          "execution_count": 21
        }
      ]
    },
    {
      "cell_type": "code",
      "source": [
        "y_preds_new"
      ],
      "metadata": {
        "id": "rn9_2F1sb0w2",
        "colab": {
          "base_uri": "https://localhost:8080/"
        },
        "outputId": "4317a637-080d-45e7-e6e1-bea57cdd4329"
      },
      "execution_count": null,
      "outputs": [
        {
          "output_type": "execute_result",
          "data": {
            "text/plain": [
              "tensor([[1.1397],\n",
              "        [1.1427],\n",
              "        [1.1458],\n",
              "        [1.1488],\n",
              "        [1.1519],\n",
              "        [1.1549],\n",
              "        [1.1580],\n",
              "        [1.1610],\n",
              "        [1.1641],\n",
              "        [1.1671],\n",
              "        [1.1702],\n",
              "        [1.1732],\n",
              "        [1.1763],\n",
              "        [1.1793],\n",
              "        [1.1824],\n",
              "        [1.1854],\n",
              "        [1.1885],\n",
              "        [1.1915],\n",
              "        [1.1946],\n",
              "        [1.1976]])"
            ]
          },
          "metadata": {},
          "execution_count": 22
        }
      ]
    },
    {
      "cell_type": "code",
      "source": [
        "y_preds_loaded==y_preds_new"
      ],
      "metadata": {
        "id": "Gy-UKYhjb0um",
        "colab": {
          "base_uri": "https://localhost:8080/"
        },
        "outputId": "7b06fa57-627f-4795-e184-56ee763bbf53"
      },
      "execution_count": null,
      "outputs": [
        {
          "output_type": "execute_result",
          "data": {
            "text/plain": [
              "tensor([[True],\n",
              "        [True],\n",
              "        [True],\n",
              "        [True],\n",
              "        [True],\n",
              "        [True],\n",
              "        [True],\n",
              "        [True],\n",
              "        [True],\n",
              "        [True],\n",
              "        [True],\n",
              "        [True],\n",
              "        [True],\n",
              "        [True],\n",
              "        [True],\n",
              "        [True],\n",
              "        [True],\n",
              "        [True],\n",
              "        [True],\n",
              "        [True]])"
            ]
          },
          "metadata": {},
          "execution_count": 23
        }
      ]
    },
    {
      "cell_type": "code",
      "source": [],
      "metadata": {
        "id": "uq239mwVfXCL"
      },
      "execution_count": null,
      "outputs": []
    }
  ]
}